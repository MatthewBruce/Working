{
 "cells": [
  {
   "cell_type": "code",
   "execution_count": 3,
   "metadata": {
    "collapsed": false
   },
   "outputs": [
    {
     "name": "stderr",
     "output_type": "stream",
     "text": [
      "ERROR:/Users/Evan/anaconda/lib/python2.7/site-packages/bokeh/validation/check.pyc:W-1003 (MALFORMED_CATEGORY_LABEL): Category labels are malformed: [field:caty] [first_value: C1:0.333333333333] [renderer: GlyphRenderer, ViewModel:GlyphRenderer, ref _id: e29a8c13-4cb2-4551-adda-3f44901bb274]\n",
      "ERROR:/Users/Evan/anaconda/lib/python2.7/site-packages/bokeh/validation/check.pyc:W-1003 (MALFORMED_CATEGORY_LABEL): Category labels are malformed: [field:catz] [first_value: C1:0.666666666667] [renderer: GlyphRenderer, ViewModel:GlyphRenderer, ref _id: 231ae6b5-03f2-4cb7-b844-3ab9cfd70db2]\n"
     ]
    }
   ],
   "source": [
    "from bokeh.charts import Bar, output_file, show\n",
    "\n",
    "# prepare some data\n",
    "data = {\"y\": [6, 7, 2, 4, 5], \"z\": [1, 5, 12, 4, 2]}\n",
    "\n",
    "# output to static HTML file\n",
    "output_file(\"bar.html\")\n",
    "\n",
    "# create a new line chat with a title and axis labels\n",
    "p = Bar(data, cat=['C1', 'C2', 'C3', 'D1', 'D2'], title=\"Bar example\",\n",
    "        xlabel='categories', ylabel='values', width=400, height=400)\n",
    "\n",
    "# show the results\n",
    "show(p)"
   ]
  },
  {
   "cell_type": "code",
   "execution_count": null,
   "metadata": {
    "collapsed": true
   },
   "outputs": [],
   "source": []
  }
 ],
 "metadata": {
  "kernelspec": {
   "display_name": "Python 2",
   "language": "python",
   "name": "python2"
  },
  "language_info": {
   "codemirror_mode": {
    "name": "ipython",
    "version": 2
   },
   "file_extension": ".py",
   "mimetype": "text/x-python",
   "name": "python",
   "nbconvert_exporter": "python",
   "pygments_lexer": "ipython2",
   "version": "2.7.10"
  }
 },
 "nbformat": 4,
 "nbformat_minor": 0
}
